{
 "cells": [
  {
   "cell_type": "code",
   "execution_count": 9,
   "metadata": {
    "collapsed": false
   },
   "outputs": [
    {
     "data": {
      "text/plain": [
       "<matplotlib.collections.PathCollection at 0x7f508c81c6a0>"
      ]
     },
     "execution_count": 9,
     "metadata": {},
     "output_type": "execute_result"
    },
    {
     "data": {
      "image/png": "[encoded data removed]",
      "text/plain": [
       "<matplotlib.figure.Figure at 0x7f508c94bb70>"
      ]
     },
     "metadata": {},
     "output_type": "display_data"
    }
   ],
   "source": [
    "import numpy as np\n",
    "import matplotlib.pyplot as plt\n",
    "%matplotlib inline\n",
    "num_obs = 100\n",
    "np.random.seed(12)\n",
    "f = lambda x: 4*x + 2\n",
    "#generate some data points\n",
    "x = np.linspace(0.,1,num_obs)\n",
    "#add noise to f(x)\n",
    "y = (f(x) + np.random.randn(len(x)))\n",
    "x = x.reshape((num_obs,1))\n",
    "y=y.reshape((num_obs,1))\n",
    "plt.figure(figsize=(12,8))\n",
    "plt.scatter(x, y, alpha=.8)\n"
   ]
  },
  {
   "cell_type": "code",
   "execution_count": 42,
   "metadata": {
    "collapsed": true
   },
   "outputs": [],
   "source": [
    "def cost_function(features, target, weights):\n",
    "    n = y.shape[0]\n",
    "    prediction = np.dot(features, weights)\n",
    "    J = (1/2*n)* np.mean((prediction - target) ** 2)\n",
    "    return J"
   ]
  },
  {
   "cell_type": "code",
   "execution_count": 64,
   "metadata": {
    "collapsed": false
   },
   "outputs": [],
   "source": [
    "def gradient_descent(features, target, alpha, num_steps):\n",
    "    m = y.shape[0]\n",
    "    intercept = np.ones((features.shape[0],1))\n",
    "    features = np.hstack((intercept,features))\n",
    "    weights = np.zeros((features.shape[1],1))\n",
    "    for step in range(num_steps):\n",
    "        prediction = np.dot(features, weights)\n",
    "        error_signal = prediction - target \n",
    "        weights -= alpha*np.dot(features.T, error_signal)\n",
    "        if step % 10000 == 0:\n",
    "            print (cost_function(features, target, weights))\n",
    "    return weights"
   ]
  },
  {
   "cell_type": "code",
   "execution_count": 65,
   "metadata": {
    "collapsed": false
   },
   "outputs": [
    {
     "name": "stdout",
     "output_type": "stream",
     "text": [
      "130.572770453\n",
      "54.6831945318\n",
      "54.6831945318\n",
      "54.6831945318\n",
      "54.6831945318\n",
      "54.6831945318\n",
      "54.6831945318\n",
      "54.6831945318\n",
      "54.6831945318\n",
      "54.6831945318\n"
     ]
    },
    {
     "data": {
      "text/plain": [
       "array([[ 1.88770668],\n",
       "       [ 3.93597164]])"
      ]
     },
     "execution_count": 65,
     "metadata": {},
     "output_type": "execute_result"
    }
   ],
   "source": [
    "weights = gradient_descent(x,y,1e-2\n",
    "                           , 100000)\n",
    "weights"
   ]
  },
  {
   "cell_type": "markdown",
   "metadata": {},
   "source": [
    "# using sklearn"
   ]
  },
  {
   "cell_type": "code",
   "execution_count": 20,
   "metadata": {
    "collapsed": false
   },
   "outputs": [
    {
     "data": {
      "text/plain": [
       "LinearRegression(copy_X=True, fit_intercept=True, n_jobs=1, normalize=False)"
      ]
     },
     "execution_count": 20,
     "metadata": {},
     "output_type": "execute_result"
    }
   ],
   "source": [
    "import sklearn.linear_model as lm\n",
    "from sklearn.cross_validation import train_test_split\n",
    "reg = lm.LinearRegression()\n",
    "x_tr,x_t,y_tr, y_t = train_test_split(x, y, test_size=0.2, random_state = 4)\n",
    "reg.fit(x_tr,y_tr)"
   ]
  },
  {
   "cell_type": "code",
   "execution_count": 21,
   "metadata": {
    "collapsed": false
   },
   "outputs": [
    {
     "data": {
      "text/plain": [
       "array([[ 3.98428829]])"
      ]
     },
     "execution_count": 21,
     "metadata": {},
     "output_type": "execute_result"
    }
   ],
   "source": [
    "reg.coef_"
   ]
  },
  {
   "cell_type": "code",
   "execution_count": 29,
   "metadata": {
    "collapsed": false
   },
   "outputs": [
    {
     "data": {
      "text/plain": [
       "array([ 1.80449132])"
      ]
     },
     "execution_count": 29,
     "metadata": {},
     "output_type": "execute_result"
    }
   ],
   "source": [
    "reg.intercept_"
   ]
  },
  {
   "cell_type": "code",
   "execution_count": 25,
   "metadata": {
    "collapsed": false
   },
   "outputs": [
    {
     "data": {
      "text/plain": [
       "array([ 2.60939804])"
      ]
     },
     "execution_count": 25,
     "metadata": {},
     "output_type": "execute_result"
    }
   ],
   "source": [
    "a=reg.predict(x_t)\n",
    "a[0]"
   ]
  },
  {
   "cell_type": "code",
   "execution_count": 28,
   "metadata": {
    "collapsed": false
   },
   "outputs": [
    {
     "data": {
      "text/plain": [
       "1.3250722613945289"
      ]
     },
     "execution_count": 28,
     "metadata": {},
     "output_type": "execute_result"
    }
   ],
   "source": [
    "#MSE\n",
    "np.mean((a-y_t)**2)"
   ]
  }
 ],
 "metadata": {
  "kernelspec": {
   "display_name": "Python 3",
   "language": "python",
   "name": "python3"
  },
  "language_info": {
   "codemirror_mode": {
    "name": "ipython",
    "version": 3
   },
   "file_extension": ".py",
   "mimetype": "text/x-python",
   "name": "python",
   "nbconvert_exporter": "python",
   "pygments_lexer": "ipython3",
   "version": "3.6.1"
  }
 },
 "nbformat": 4,
 "nbformat_minor": 2
}
